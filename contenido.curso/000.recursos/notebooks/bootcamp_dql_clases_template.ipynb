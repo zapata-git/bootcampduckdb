[![Abrir en Colab](https://colab.research.google.com/assets/colab-badge.svg)](https://colab.research.google.com/github/zapata-git/bootcampduckdb/blob/main/contenido.curso/000.recursos/notebooks/bootcamp_dql_clases_template.ipynb)

{
  "cells": [
    {
      "cell_type": "markdown",
      "metadata": {
        "id": "kY4ed9W-VQix"
      },
      "source": [
        "![cumf-db](https://i.postimg.cc/PxVdgjnj/Slide4.jpg)\n",
        "\n",
        "\n",
        "\n",
        "\n",
        "Esta utilidad está diseñada para personas que no tienen fácil acceso a herramientas instaladas y también para fines académicos, facilitando la documentación de los temas vistos en clase.\n",
        "\n",
        "Recomendaciones especiales:\n",
        "\n",
        "1. El contenido de la fila de abajo no debe ser modificado, pero debe ejecutarse tal como está.\n",
        "\n",
        "2. Para ejecutar una sentencia, crea una nueva celda de código y coloca %%sql. Luego, podrás ejecutar sentencias en la base de datos. Si no tienes experiencia con notebooks, visita este [link](https://www.youtube.com/watch?v=8VFYs3Ot_aA&t=629s).\n",
        "\n",
        "3. Este notebook será sumamente útil para la clase de `SELECTS`."
      ]
    },
    {
      "cell_type": "code",
      "execution_count": null,
      "metadata": {
        "id": "g9uW85kkPf79"
      },
      "outputs": [],
      "source": [
        "!pip install duckdb notebook jupyterlab pandas duckdb-engine jupysql toml SQLAlchemy &> /dev/null ;\n",
        "\n",
        "import os\n",
        "import pathlib\n",
        "import pandas as pd\n",
        "from sqlalchemy import create_engine, text\n",
        "\n",
        "%config SqlMagic.autopandas = True\n",
        "%config SqlMagic.feedback = False\n",
        "%config SqlMagic.displaycon = False\n",
        "%config SqlMagic.short_errors = True\n",
        "%config SqlMagic.style = \"DEFAULT\"\n",
        "%config SqlMagic.lazy_execution = False\n",
        "%config SqlMagic.displaylimit = 0\n",
        "%config SqlMagic.named_parameters=\"enabled\"\n",
        "\n",
        "db: str = \"bootcamp.db\"\n",
        "\n",
        "engine = create_engine(\n",
        "    f\"duckdb:///{db}\",\n",
        "    connect_args={\n",
        "        'read_only': False,\n",
        "        'config': {\n",
        "            'access_mode': 'READ_WRITE',\n",
        "        }\n",
        "    }\n",
        ")\n",
        "\n",
        "with engine.connect() as conn:\n",
        "    conn.execute(\n",
        "        text(f\"\"\" INSTALL httpfs; LOAD httpfs;\"\"\"\n",
        "        )\n",
        "    )\n",
        "    conn.commit()\n",
        "\n",
        "%reload_ext sql\n",
        "%sql engine"
      ]
    },
    {
      "cell_type": "code",
      "execution_count": null,
      "metadata": {
        "colab": {
          "base_uri": "https://localhost:8080/",
          "height": 81
        },
        "id": "ujdo5erDQ2z3",
        "outputId": "736bbb7b-b27d-41e4-da37-7c700e5f9c8e"
      },
      "outputs": [
        {
          "data": {
            "text/html": [
              "<div>\n",
              "<style scoped>\n",
              "    .dataframe tbody tr th:only-of-type {\n",
              "        vertical-align: middle;\n",
              "    }\n",
              "\n",
              "    .dataframe tbody tr th {\n",
              "        vertical-align: top;\n",
              "    }\n",
              "\n",
              "    .dataframe thead th {\n",
              "        text-align: right;\n",
              "    }\n",
              "</style>\n",
              "<table border=\"1\" class=\"dataframe\">\n",
              "  <thead>\n",
              "    <tr style=\"text-align: right;\">\n",
              "      <th></th>\n",
              "      <th>result</th>\n",
              "    </tr>\n",
              "  </thead>\n",
              "  <tbody>\n",
              "    <tr>\n",
              "      <th>0</th>\n",
              "      <td>1</td>\n",
              "    </tr>\n",
              "  </tbody>\n",
              "</table>\n",
              "</div>"
            ],
            "text/plain": [
              "   result\n",
              "0       1"
            ]
          },
          "execution_count": 3,
          "metadata": {},
          "output_type": "execute_result"
        }
      ],
      "source": [
        "%%sql\n",
        "SELECT 1 as result"
      ]
    },
    {
      "cell_type": "code",
      "execution_count": null,
      "metadata": {
        "id": "mz_qBY91iI2n"
      },
      "outputs": [],
      "source": [
        "%%sql\n",
        "\n",
        "select now() as 'NOW', 1 as 'COUNT', today() as 'TODAY'"
      ]
    },
    {
      "cell_type": "code",
      "execution_count": null,
      "metadata": {
        "id": "EbN55RVOiI2n"
      },
      "outputs": [],
      "source": [
        "# -- Cerrar conexión a la base de datos.\n",
        "\n",
        "try:\n",
        "    engine.close()\n",
        "except:\n",
        "    pass"
      ]
    }
  ],
  "metadata": {
    "colab": {
      "provenance": []
    },
    "kernelspec": {
      "display_name": "Python 3",
      "name": "python3"
    },
    "language_info": {
      "codemirror_mode": {
        "name": "ipython",
        "version": 3
      },
      "file_extension": ".py",
      "mimetype": "text/x-python",
      "name": "python",
      "nbconvert_exporter": "python",
      "pygments_lexer": "ipython3",
      "version": "3.12.5"
    }
  },
  "nbformat": 4,
  "nbformat_minor": 0
}
